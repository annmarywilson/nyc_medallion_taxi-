{
 "cells": [
  {
   "cell_type": "markdown",
   "id": "a50e3466",
   "metadata": {},
   "source": [
    "# 1. What is your research question, hypothesis and assumptions? Is your result significant?\n"
   ]
  },
  {
   "cell_type": "markdown",
   "id": "5fdb323b",
   "metadata": {},
   "source": [
    "For this I am picking yellow taxi trip records(parquet) file for analysis. It includes information such as pickup time and dropoff time, trip distance and fares. I believe this can be useful for analyzing trends intaxi usage and fare rates. The data I am using for this analysis is 2023 January data."
   ]
  },
  {
   "cell_type": "markdown",
   "id": "9b462d44",
   "metadata": {},
   "source": [
    "The research question that I want to ask this dataset is to identify the factors that affect taxi trip fares in New York City. The hypothesis is that the fare amount is primarily influenced by the trip distance, time of the day, day of the week and passenger count. And I assume that the data is a representative sample of all taxi trips in NYC, and there are no biases or errors in the given dataset.To test the hypothesis I am performing a regression analysis on this data, with fare amount as the dependent variable and trip distance, time of day, day of the week and passenger count as independent variables. I would also perform a significance test on the regression coefficients to determine if the results are significant."
   ]
  },
  {
   "cell_type": "code",
   "execution_count": 54,
   "id": "edd67d0c",
   "metadata": {},
   "outputs": [],
   "source": [
    "import pandas as pd\n",
    "import numpy as np\n",
    "import matplotlib.pyplot as plt\n",
    "import seaborn as sns\n",
    "from sklearn.linear_model import LinearRegression\n",
    "from sklearn.model_selection import train_test_split\n",
    "from sklearn.metrics import r2_score"
   ]
  },
  {
   "cell_type": "code",
   "execution_count": 55,
   "id": "e3f6a492",
   "metadata": {
    "scrolled": false
   },
   "outputs": [
    {
     "data": {
      "text/html": [
       "<div>\n",
       "<style scoped>\n",
       "    .dataframe tbody tr th:only-of-type {\n",
       "        vertical-align: middle;\n",
       "    }\n",
       "\n",
       "    .dataframe tbody tr th {\n",
       "        vertical-align: top;\n",
       "    }\n",
       "\n",
       "    .dataframe thead th {\n",
       "        text-align: right;\n",
       "    }\n",
       "</style>\n",
       "<table border=\"1\" class=\"dataframe\">\n",
       "  <thead>\n",
       "    <tr style=\"text-align: right;\">\n",
       "      <th></th>\n",
       "      <th>VendorID</th>\n",
       "      <th>tpep_pickup_datetime</th>\n",
       "      <th>tpep_dropoff_datetime</th>\n",
       "      <th>passenger_count</th>\n",
       "      <th>trip_distance</th>\n",
       "      <th>RatecodeID</th>\n",
       "      <th>store_and_fwd_flag</th>\n",
       "      <th>PULocationID</th>\n",
       "      <th>DOLocationID</th>\n",
       "      <th>payment_type</th>\n",
       "      <th>fare_amount</th>\n",
       "      <th>extra</th>\n",
       "      <th>mta_tax</th>\n",
       "      <th>tip_amount</th>\n",
       "      <th>tolls_amount</th>\n",
       "      <th>improvement_surcharge</th>\n",
       "      <th>total_amount</th>\n",
       "      <th>congestion_surcharge</th>\n",
       "      <th>airport_fee</th>\n",
       "    </tr>\n",
       "  </thead>\n",
       "  <tbody>\n",
       "    <tr>\n",
       "      <th>0</th>\n",
       "      <td>2</td>\n",
       "      <td>2023-01-01 00:32:10</td>\n",
       "      <td>2023-01-01 00:40:36</td>\n",
       "      <td>1.0</td>\n",
       "      <td>0.97</td>\n",
       "      <td>1.0</td>\n",
       "      <td>N</td>\n",
       "      <td>161</td>\n",
       "      <td>141</td>\n",
       "      <td>2</td>\n",
       "      <td>9.3</td>\n",
       "      <td>1.00</td>\n",
       "      <td>0.5</td>\n",
       "      <td>0.00</td>\n",
       "      <td>0.0</td>\n",
       "      <td>1.0</td>\n",
       "      <td>14.30</td>\n",
       "      <td>2.5</td>\n",
       "      <td>0.00</td>\n",
       "    </tr>\n",
       "    <tr>\n",
       "      <th>1</th>\n",
       "      <td>2</td>\n",
       "      <td>2023-01-01 00:55:08</td>\n",
       "      <td>2023-01-01 01:01:27</td>\n",
       "      <td>1.0</td>\n",
       "      <td>1.10</td>\n",
       "      <td>1.0</td>\n",
       "      <td>N</td>\n",
       "      <td>43</td>\n",
       "      <td>237</td>\n",
       "      <td>1</td>\n",
       "      <td>7.9</td>\n",
       "      <td>1.00</td>\n",
       "      <td>0.5</td>\n",
       "      <td>4.00</td>\n",
       "      <td>0.0</td>\n",
       "      <td>1.0</td>\n",
       "      <td>16.90</td>\n",
       "      <td>2.5</td>\n",
       "      <td>0.00</td>\n",
       "    </tr>\n",
       "    <tr>\n",
       "      <th>2</th>\n",
       "      <td>2</td>\n",
       "      <td>2023-01-01 00:25:04</td>\n",
       "      <td>2023-01-01 00:37:49</td>\n",
       "      <td>1.0</td>\n",
       "      <td>2.51</td>\n",
       "      <td>1.0</td>\n",
       "      <td>N</td>\n",
       "      <td>48</td>\n",
       "      <td>238</td>\n",
       "      <td>1</td>\n",
       "      <td>14.9</td>\n",
       "      <td>1.00</td>\n",
       "      <td>0.5</td>\n",
       "      <td>15.00</td>\n",
       "      <td>0.0</td>\n",
       "      <td>1.0</td>\n",
       "      <td>34.90</td>\n",
       "      <td>2.5</td>\n",
       "      <td>0.00</td>\n",
       "    </tr>\n",
       "    <tr>\n",
       "      <th>3</th>\n",
       "      <td>1</td>\n",
       "      <td>2023-01-01 00:03:48</td>\n",
       "      <td>2023-01-01 00:13:25</td>\n",
       "      <td>0.0</td>\n",
       "      <td>1.90</td>\n",
       "      <td>1.0</td>\n",
       "      <td>N</td>\n",
       "      <td>138</td>\n",
       "      <td>7</td>\n",
       "      <td>1</td>\n",
       "      <td>12.1</td>\n",
       "      <td>7.25</td>\n",
       "      <td>0.5</td>\n",
       "      <td>0.00</td>\n",
       "      <td>0.0</td>\n",
       "      <td>1.0</td>\n",
       "      <td>20.85</td>\n",
       "      <td>0.0</td>\n",
       "      <td>1.25</td>\n",
       "    </tr>\n",
       "    <tr>\n",
       "      <th>4</th>\n",
       "      <td>2</td>\n",
       "      <td>2023-01-01 00:10:29</td>\n",
       "      <td>2023-01-01 00:21:19</td>\n",
       "      <td>1.0</td>\n",
       "      <td>1.43</td>\n",
       "      <td>1.0</td>\n",
       "      <td>N</td>\n",
       "      <td>107</td>\n",
       "      <td>79</td>\n",
       "      <td>1</td>\n",
       "      <td>11.4</td>\n",
       "      <td>1.00</td>\n",
       "      <td>0.5</td>\n",
       "      <td>3.28</td>\n",
       "      <td>0.0</td>\n",
       "      <td>1.0</td>\n",
       "      <td>19.68</td>\n",
       "      <td>2.5</td>\n",
       "      <td>0.00</td>\n",
       "    </tr>\n",
       "  </tbody>\n",
       "</table>\n",
       "</div>"
      ],
      "text/plain": [
       "   VendorID tpep_pickup_datetime tpep_dropoff_datetime  passenger_count  \\\n",
       "0         2  2023-01-01 00:32:10   2023-01-01 00:40:36              1.0   \n",
       "1         2  2023-01-01 00:55:08   2023-01-01 01:01:27              1.0   \n",
       "2         2  2023-01-01 00:25:04   2023-01-01 00:37:49              1.0   \n",
       "3         1  2023-01-01 00:03:48   2023-01-01 00:13:25              0.0   \n",
       "4         2  2023-01-01 00:10:29   2023-01-01 00:21:19              1.0   \n",
       "\n",
       "   trip_distance  RatecodeID store_and_fwd_flag  PULocationID  DOLocationID  \\\n",
       "0           0.97         1.0                  N           161           141   \n",
       "1           1.10         1.0                  N            43           237   \n",
       "2           2.51         1.0                  N            48           238   \n",
       "3           1.90         1.0                  N           138             7   \n",
       "4           1.43         1.0                  N           107            79   \n",
       "\n",
       "   payment_type  fare_amount  extra  mta_tax  tip_amount  tolls_amount  \\\n",
       "0             2          9.3   1.00      0.5        0.00           0.0   \n",
       "1             1          7.9   1.00      0.5        4.00           0.0   \n",
       "2             1         14.9   1.00      0.5       15.00           0.0   \n",
       "3             1         12.1   7.25      0.5        0.00           0.0   \n",
       "4             1         11.4   1.00      0.5        3.28           0.0   \n",
       "\n",
       "   improvement_surcharge  total_amount  congestion_surcharge  airport_fee  \n",
       "0                    1.0         14.30                   2.5         0.00  \n",
       "1                    1.0         16.90                   2.5         0.00  \n",
       "2                    1.0         34.90                   2.5         0.00  \n",
       "3                    1.0         20.85                   0.0         1.25  \n",
       "4                    1.0         19.68                   2.5         0.00  "
      ]
     },
     "execution_count": 55,
     "metadata": {},
     "output_type": "execute_result"
    }
   ],
   "source": [
    "#Load data into pandas data frame\n",
    "df = pd.read_parquet('yellow_tripdata_2023-01.parquet', engine='fastparquet')\n",
    "df.head()"
   ]
  },
  {
   "cell_type": "markdown",
   "id": "8063c513",
   "metadata": {},
   "source": [
    "### Exploratory data analysis and data preprocessing"
   ]
  },
  {
   "cell_type": "code",
   "execution_count": 56,
   "id": "8d57ee30",
   "metadata": {},
   "outputs": [
    {
     "name": "stdout",
     "output_type": "stream",
     "text": [
      "Shape of the dataframe: (3066766, 19)\n",
      "Columns in the dataframe: Index(['VendorID', 'tpep_pickup_datetime', 'tpep_dropoff_datetime',\n",
      "       'passenger_count', 'trip_distance', 'RatecodeID', 'store_and_fwd_flag',\n",
      "       'PULocationID', 'DOLocationID', 'payment_type', 'fare_amount', 'extra',\n",
      "       'mta_tax', 'tip_amount', 'tolls_amount', 'improvement_surcharge',\n",
      "       'total_amount', 'congestion_surcharge', 'airport_fee'],\n",
      "      dtype='object')\n",
      "Data types of the columns:\n",
      " VendorID                          int64\n",
      "tpep_pickup_datetime     datetime64[ns]\n",
      "tpep_dropoff_datetime    datetime64[ns]\n",
      "passenger_count                 float64\n",
      "trip_distance                   float64\n",
      "RatecodeID                      float64\n",
      "store_and_fwd_flag               object\n",
      "PULocationID                      int64\n",
      "DOLocationID                      int64\n",
      "payment_type                      int64\n",
      "fare_amount                     float64\n",
      "extra                           float64\n",
      "mta_tax                         float64\n",
      "tip_amount                      float64\n",
      "tolls_amount                    float64\n",
      "improvement_surcharge           float64\n",
      "total_amount                    float64\n",
      "congestion_surcharge            float64\n",
      "airport_fee                     float64\n",
      "dtype: object\n",
      "Basic statistical information about the dataframe:\n",
      "            VendorID  passenger_count  trip_distance    RatecodeID  \\\n",
      "count  3.066766e+06     2.995023e+06   3.066766e+06  2.995023e+06   \n",
      "mean   1.730215e+00     1.362532e+00   3.847342e+00  1.497440e+00   \n",
      "std    4.438480e-01     8.961200e-01   2.495838e+02  6.474767e+00   \n",
      "min    1.000000e+00     0.000000e+00   0.000000e+00  1.000000e+00   \n",
      "25%    1.000000e+00     1.000000e+00   1.060000e+00  1.000000e+00   \n",
      "50%    2.000000e+00     1.000000e+00   1.800000e+00  1.000000e+00   \n",
      "75%    2.000000e+00     1.000000e+00   3.330000e+00  1.000000e+00   \n",
      "max    2.000000e+00     9.000000e+00   2.589281e+05  9.900000e+01   \n",
      "\n",
      "       PULocationID  DOLocationID  payment_type   fare_amount         extra  \\\n",
      "count  3.066766e+06  3.066766e+06  3.066766e+06  3.066766e+06  3.066766e+06   \n",
      "mean   1.663980e+02  1.643926e+02  1.194483e+00  1.836707e+01  1.537842e+00   \n",
      "std    6.424413e+01  6.994368e+01  5.294762e-01  1.780782e+01  1.789592e+00   \n",
      "min    1.000000e+00  1.000000e+00  0.000000e+00 -9.000000e+02 -7.500000e+00   \n",
      "25%    1.320000e+02  1.140000e+02  1.000000e+00  8.600000e+00  0.000000e+00   \n",
      "50%    1.620000e+02  1.620000e+02  1.000000e+00  1.280000e+01  1.000000e+00   \n",
      "75%    2.340000e+02  2.340000e+02  1.000000e+00  2.050000e+01  2.500000e+00   \n",
      "max    2.650000e+02  2.650000e+02  4.000000e+00  1.160100e+03  1.250000e+01   \n",
      "\n",
      "            mta_tax    tip_amount  tolls_amount  improvement_surcharge  \\\n",
      "count  3.066766e+06  3.066766e+06  3.066766e+06           3.066766e+06   \n",
      "mean   4.882900e-01  3.367941e+00  5.184907e-01           9.820847e-01   \n",
      "std    1.034641e-01  3.826759e+00  2.017579e+00           1.833529e-01   \n",
      "min   -5.000000e-01 -9.622000e+01 -6.500000e+01          -1.000000e+00   \n",
      "25%    5.000000e-01  1.000000e+00  0.000000e+00           1.000000e+00   \n",
      "50%    5.000000e-01  2.720000e+00  0.000000e+00           1.000000e+00   \n",
      "75%    5.000000e-01  4.200000e+00  0.000000e+00           1.000000e+00   \n",
      "max    5.316000e+01  3.808000e+02  1.969900e+02           1.000000e+00   \n",
      "\n",
      "       total_amount  congestion_surcharge   airport_fee  \n",
      "count  3.066766e+06          2.995023e+06  2.995023e+06  \n",
      "mean   2.702038e+01          2.274231e+00  1.074086e-01  \n",
      "std    2.216359e+01          7.718454e-01  3.556511e-01  \n",
      "min   -7.510000e+02         -2.500000e+00 -1.250000e+00  \n",
      "25%    1.540000e+01          2.500000e+00  0.000000e+00  \n",
      "50%    2.016000e+01          2.500000e+00  0.000000e+00  \n",
      "75%    2.870000e+01          2.500000e+00  0.000000e+00  \n",
      "max    1.169400e+03          2.500000e+00  1.250000e+00  \n"
     ]
    }
   ],
   "source": [
    "#Checking the dimension and basic info of df\n",
    "print('Shape of the dataframe:', df.shape)\n",
    "print('Columns in the dataframe:', df.columns)\n",
    "print('Data types of the columns:\\n', df.dtypes)\n",
    "print('Basic statistical information about the dataframe:\\n', df.describe())"
   ]
  },
  {
   "cell_type": "code",
   "execution_count": 57,
   "id": "f52e40bb",
   "metadata": {
    "scrolled": false
   },
   "outputs": [
    {
     "name": "stdout",
     "output_type": "stream",
     "text": [
      "Missing values in the dataframe:\n",
      " VendorID                     0\n",
      "tpep_pickup_datetime         0\n",
      "tpep_dropoff_datetime        0\n",
      "passenger_count          71743\n",
      "trip_distance                0\n",
      "RatecodeID               71743\n",
      "store_and_fwd_flag       71743\n",
      "PULocationID                 0\n",
      "DOLocationID                 0\n",
      "payment_type                 0\n",
      "fare_amount                  0\n",
      "extra                        0\n",
      "mta_tax                      0\n",
      "tip_amount                   0\n",
      "tolls_amount                 0\n",
      "improvement_surcharge        0\n",
      "total_amount                 0\n",
      "congestion_surcharge     71743\n",
      "airport_fee              71743\n",
      "dtype: int64\n"
     ]
    }
   ],
   "source": [
    "print('Missing values in the dataframe:\\n', df.isnull().sum())"
   ]
  },
  {
   "cell_type": "markdown",
   "id": "86545530",
   "metadata": {},
   "source": [
    "One of the variable that I care about is passenger count. I find out that there are 71743 missing values out of 3066766 dataset. I assume that the missing values are missing at random and and the replaced missing values are representative of the NYC population."
   ]
  },
  {
   "cell_type": "code",
   "execution_count": 58,
   "id": "9ff184f2",
   "metadata": {},
   "outputs": [
    {
     "data": {
      "text/plain": [
       "VendorID                     0\n",
       "tpep_pickup_datetime         0\n",
       "tpep_dropoff_datetime        0\n",
       "passenger_count              0\n",
       "trip_distance                0\n",
       "RatecodeID               71743\n",
       "store_and_fwd_flag       71743\n",
       "PULocationID                 0\n",
       "DOLocationID                 0\n",
       "payment_type                 0\n",
       "fare_amount                  0\n",
       "extra                        0\n",
       "mta_tax                      0\n",
       "tip_amount                   0\n",
       "tolls_amount                 0\n",
       "improvement_surcharge        0\n",
       "total_amount                 0\n",
       "congestion_surcharge     71743\n",
       "airport_fee              71743\n",
       "dtype: int64"
      ]
     },
     "execution_count": 58,
     "metadata": {},
     "output_type": "execute_result"
    }
   ],
   "source": [
    "mean_pc = df['passenger_count'].mean()\n",
    "df['passenger_count'].fillna(mean_pc, inplace=True)\n",
    "df.isnull().sum()"
   ]
  },
  {
   "cell_type": "code",
   "execution_count": 59,
   "id": "332034b3",
   "metadata": {},
   "outputs": [
    {
     "data": {
      "text/plain": [
       "tpep_pickup_datetime    datetime64[ns]\n",
       "passenger_count                float64\n",
       "trip_distance                  float64\n",
       "fare_amount                    float64\n",
       "dtype: object"
      ]
     },
     "execution_count": 59,
     "metadata": {},
     "output_type": "execute_result"
    }
   ],
   "source": [
    "#Droping columns that are not required\n",
    "df.drop(['VendorID', 'tpep_dropoff_datetime', 'RatecodeID', 'store_and_fwd_flag','PULocationID','DOLocationID','payment_type','extra','mta_tax','tip_amount','tolls_amount', 'improvement_surcharge', 'total_amount','congestion_surcharge', 'airport_fee'], axis=1, inplace=True)\n",
    "df.dtypes"
   ]
  },
  {
   "cell_type": "code",
   "execution_count": 60,
   "id": "50ee770b",
   "metadata": {
    "scrolled": true
   },
   "outputs": [
    {
     "name": "stderr",
     "output_type": "stream",
     "text": [
      "C:\\Users\\Admin\\AppData\\Local\\Temp\\ipykernel_1136\\1579613680.py:2: FutureWarning: The default value of numeric_only in DataFrame.corr is deprecated. In a future version, it will default to False. Select only valid columns or specify the value of numeric_only to silence this warning.\n",
      "  corr_matrix = df.corr()\n"
     ]
    },
    {
     "data": {
      "image/png": "[encoded data removed]",
      "text/plain": [
       "<Figure size 640x480 with 2 Axes>"
      ]
     },
     "metadata": {},
     "output_type": "display_data"
    }
   ],
   "source": [
    "#Checking correlation between the variables\n",
    "corr_matrix = df.corr()\n",
    "sns.heatmap(corr_matrix, cmap='YlGnBu', annot=True)\n",
    "plt.show()"
   ]
  },
  {
   "cell_type": "code",
   "execution_count": 61,
   "id": "c4019ce2",
   "metadata": {},
   "outputs": [
    {
     "data": {
      "image/png": "[encoded data removed]",
      "text/plain": [
       "<Figure size 640x480 with 1 Axes>"
      ]
     },
     "metadata": {},
     "output_type": "display_data"
    },
    {
     "data": {
      "image/png": "[encoded data removed]",
      "text/plain": [
       "<Figure size 640x480 with 1 Axes>"
      ]
     },
     "metadata": {},
     "output_type": "display_data"
    }
   ],
   "source": [
    "#Checking outliers in the fare amount and trip distance variables\n",
    "sns.boxplot(x='fare_amount', data=df)\n",
    "plt.show()\n",
    "\n",
    "sns.boxplot(x='trip_distance', data=df)\n",
    "plt.show()"
   ]
  },
  {
   "cell_type": "code",
   "execution_count": 62,
   "id": "fa557c5e",
   "metadata": {},
   "outputs": [
    {
     "data": {
      "text/plain": [
       "(3041717, 4)"
      ]
     },
     "execution_count": 62,
     "metadata": {},
     "output_type": "execute_result"
    }
   ],
   "source": [
    "#Removing outliers from the dataframe\n",
    "df_new = df[(df['fare_amount'] >= 0) & (df['trip_distance'] >= 0)]\n",
    "df_new.shape"
   ]
  },
  {
   "cell_type": "code",
   "execution_count": null,
   "id": "e4b069dd",
   "metadata": {},
   "outputs": [],
   "source": [
    "sns.pairplot(df_new)"
   ]
  },
  {
   "cell_type": "markdown",
   "id": "8ba61348",
   "metadata": {},
   "source": [
    "### Regression Analysis"
   ]
  },
  {
   "cell_type": "code",
   "execution_count": 63,
   "id": "67ee72f5",
   "metadata": {},
   "outputs": [
    {
     "name": "stderr",
     "output_type": "stream",
     "text": [
      "C:\\Users\\Admin\\AppData\\Local\\Temp\\ipykernel_1136\\851956497.py:2: SettingWithCopyWarning: \n",
      "A value is trying to be set on a copy of a slice from a DataFrame.\n",
      "Try using .loc[row_indexer,col_indexer] = value instead\n",
      "\n",
      "See the caveats in the documentation: https://pandas.pydata.org/pandas-docs/stable/user_guide/indexing.html#returning-a-view-versus-a-copy\n",
      "  df_new['tpep_pickup_datetime'] = pd.to_datetime(df_new['tpep_pickup_datetime'])\n",
      "C:\\Users\\Admin\\AppData\\Local\\Temp\\ipykernel_1136\\851956497.py:3: SettingWithCopyWarning: \n",
      "A value is trying to be set on a copy of a slice from a DataFrame.\n",
      "Try using .loc[row_indexer,col_indexer] = value instead\n",
      "\n",
      "See the caveats in the documentation: https://pandas.pydata.org/pandas-docs/stable/user_guide/indexing.html#returning-a-view-versus-a-copy\n",
      "  df_new['hour'] = df_new['tpep_pickup_datetime'].dt.hour\n",
      "C:\\Users\\Admin\\AppData\\Local\\Temp\\ipykernel_1136\\851956497.py:4: SettingWithCopyWarning: \n",
      "A value is trying to be set on a copy of a slice from a DataFrame.\n",
      "Try using .loc[row_indexer,col_indexer] = value instead\n",
      "\n",
      "See the caveats in the documentation: https://pandas.pydata.org/pandas-docs/stable/user_guide/indexing.html#returning-a-view-versus-a-copy\n",
      "  df_new['day_of_week'] = df_new['tpep_pickup_datetime'].dt.dayofweek\n",
      "C:\\Users\\Admin\\AppData\\Local\\Temp\\ipykernel_1136\\851956497.py:5: SettingWithCopyWarning: \n",
      "A value is trying to be set on a copy of a slice from a DataFrame.\n",
      "Try using .loc[row_indexer,col_indexer] = value instead\n",
      "\n",
      "See the caveats in the documentation: https://pandas.pydata.org/pandas-docs/stable/user_guide/indexing.html#returning-a-view-versus-a-copy\n",
      "  df_new['hour'] = df_new['hour'].astype('category')\n",
      "C:\\Users\\Admin\\AppData\\Local\\Temp\\ipykernel_1136\\851956497.py:6: SettingWithCopyWarning: \n",
      "A value is trying to be set on a copy of a slice from a DataFrame.\n",
      "Try using .loc[row_indexer,col_indexer] = value instead\n",
      "\n",
      "See the caveats in the documentation: https://pandas.pydata.org/pandas-docs/stable/user_guide/indexing.html#returning-a-view-versus-a-copy\n",
      "  df_new['day_of_week'] = df_new['day_of_week'].astype('category')\n"
     ]
    },
    {
     "data": {
      "text/html": [
       "<div>\n",
       "<style scoped>\n",
       "    .dataframe tbody tr th:only-of-type {\n",
       "        vertical-align: middle;\n",
       "    }\n",
       "\n",
       "    .dataframe tbody tr th {\n",
       "        vertical-align: top;\n",
       "    }\n",
       "\n",
       "    .dataframe thead th {\n",
       "        text-align: right;\n",
       "    }\n",
       "</style>\n",
       "<table border=\"1\" class=\"dataframe\">\n",
       "  <thead>\n",
       "    <tr style=\"text-align: right;\">\n",
       "      <th></th>\n",
       "      <th>tpep_pickup_datetime</th>\n",
       "      <th>passenger_count</th>\n",
       "      <th>trip_distance</th>\n",
       "      <th>fare_amount</th>\n",
       "      <th>hour</th>\n",
       "      <th>day_of_week</th>\n",
       "    </tr>\n",
       "  </thead>\n",
       "  <tbody>\n",
       "    <tr>\n",
       "      <th>0</th>\n",
       "      <td>2023-01-01 00:32:10</td>\n",
       "      <td>1.0</td>\n",
       "      <td>0.97</td>\n",
       "      <td>9.3</td>\n",
       "      <td>0</td>\n",
       "      <td>6</td>\n",
       "    </tr>\n",
       "    <tr>\n",
       "      <th>1</th>\n",
       "      <td>2023-01-01 00:55:08</td>\n",
       "      <td>1.0</td>\n",
       "      <td>1.10</td>\n",
       "      <td>7.9</td>\n",
       "      <td>0</td>\n",
       "      <td>6</td>\n",
       "    </tr>\n",
       "    <tr>\n",
       "      <th>2</th>\n",
       "      <td>2023-01-01 00:25:04</td>\n",
       "      <td>1.0</td>\n",
       "      <td>2.51</td>\n",
       "      <td>14.9</td>\n",
       "      <td>0</td>\n",
       "      <td>6</td>\n",
       "    </tr>\n",
       "    <tr>\n",
       "      <th>3</th>\n",
       "      <td>2023-01-01 00:03:48</td>\n",
       "      <td>0.0</td>\n",
       "      <td>1.90</td>\n",
       "      <td>12.1</td>\n",
       "      <td>0</td>\n",
       "      <td>6</td>\n",
       "    </tr>\n",
       "    <tr>\n",
       "      <th>4</th>\n",
       "      <td>2023-01-01 00:10:29</td>\n",
       "      <td>1.0</td>\n",
       "      <td>1.43</td>\n",
       "      <td>11.4</td>\n",
       "      <td>0</td>\n",
       "      <td>6</td>\n",
       "    </tr>\n",
       "    <tr>\n",
       "      <th>5</th>\n",
       "      <td>2023-01-01 00:50:34</td>\n",
       "      <td>1.0</td>\n",
       "      <td>1.84</td>\n",
       "      <td>12.8</td>\n",
       "      <td>0</td>\n",
       "      <td>6</td>\n",
       "    </tr>\n",
       "    <tr>\n",
       "      <th>6</th>\n",
       "      <td>2023-01-01 00:09:22</td>\n",
       "      <td>1.0</td>\n",
       "      <td>1.66</td>\n",
       "      <td>12.1</td>\n",
       "      <td>0</td>\n",
       "      <td>6</td>\n",
       "    </tr>\n",
       "    <tr>\n",
       "      <th>7</th>\n",
       "      <td>2023-01-01 00:27:12</td>\n",
       "      <td>1.0</td>\n",
       "      <td>11.70</td>\n",
       "      <td>45.7</td>\n",
       "      <td>0</td>\n",
       "      <td>6</td>\n",
       "    </tr>\n",
       "    <tr>\n",
       "      <th>8</th>\n",
       "      <td>2023-01-01 00:21:44</td>\n",
       "      <td>1.0</td>\n",
       "      <td>2.95</td>\n",
       "      <td>17.7</td>\n",
       "      <td>0</td>\n",
       "      <td>6</td>\n",
       "    </tr>\n",
       "    <tr>\n",
       "      <th>9</th>\n",
       "      <td>2023-01-01 00:39:42</td>\n",
       "      <td>1.0</td>\n",
       "      <td>3.01</td>\n",
       "      <td>14.9</td>\n",
       "      <td>0</td>\n",
       "      <td>6</td>\n",
       "    </tr>\n",
       "    <tr>\n",
       "      <th>10</th>\n",
       "      <td>2023-01-01 00:53:01</td>\n",
       "      <td>1.0</td>\n",
       "      <td>1.80</td>\n",
       "      <td>11.4</td>\n",
       "      <td>0</td>\n",
       "      <td>6</td>\n",
       "    </tr>\n",
       "    <tr>\n",
       "      <th>11</th>\n",
       "      <td>2023-01-01 00:43:37</td>\n",
       "      <td>4.0</td>\n",
       "      <td>7.30</td>\n",
       "      <td>33.8</td>\n",
       "      <td>0</td>\n",
       "      <td>6</td>\n",
       "    </tr>\n",
       "    <tr>\n",
       "      <th>12</th>\n",
       "      <td>2023-01-01 00:34:44</td>\n",
       "      <td>1.0</td>\n",
       "      <td>3.23</td>\n",
       "      <td>26.1</td>\n",
       "      <td>0</td>\n",
       "      <td>6</td>\n",
       "    </tr>\n",
       "    <tr>\n",
       "      <th>13</th>\n",
       "      <td>2023-01-01 00:09:29</td>\n",
       "      <td>2.0</td>\n",
       "      <td>11.43</td>\n",
       "      <td>44.3</td>\n",
       "      <td>0</td>\n",
       "      <td>6</td>\n",
       "    </tr>\n",
       "    <tr>\n",
       "      <th>14</th>\n",
       "      <td>2023-01-01 00:33:53</td>\n",
       "      <td>1.0</td>\n",
       "      <td>2.95</td>\n",
       "      <td>17.7</td>\n",
       "      <td>0</td>\n",
       "      <td>6</td>\n",
       "    </tr>\n",
       "    <tr>\n",
       "      <th>15</th>\n",
       "      <td>2023-01-01 00:13:04</td>\n",
       "      <td>1.0</td>\n",
       "      <td>1.52</td>\n",
       "      <td>10.0</td>\n",
       "      <td>0</td>\n",
       "      <td>6</td>\n",
       "    </tr>\n",
       "    <tr>\n",
       "      <th>16</th>\n",
       "      <td>2023-01-01 00:45:11</td>\n",
       "      <td>1.0</td>\n",
       "      <td>2.23</td>\n",
       "      <td>19.8</td>\n",
       "      <td>0</td>\n",
       "      <td>6</td>\n",
       "    </tr>\n",
       "    <tr>\n",
       "      <th>17</th>\n",
       "      <td>2023-01-01 00:04:33</td>\n",
       "      <td>1.0</td>\n",
       "      <td>4.50</td>\n",
       "      <td>20.5</td>\n",
       "      <td>0</td>\n",
       "      <td>6</td>\n",
       "    </tr>\n",
       "    <tr>\n",
       "      <th>18</th>\n",
       "      <td>2023-01-01 00:03:36</td>\n",
       "      <td>3.0</td>\n",
       "      <td>1.20</td>\n",
       "      <td>8.6</td>\n",
       "      <td>0</td>\n",
       "      <td>6</td>\n",
       "    </tr>\n",
       "    <tr>\n",
       "      <th>19</th>\n",
       "      <td>2023-01-01 00:15:23</td>\n",
       "      <td>2.0</td>\n",
       "      <td>2.50</td>\n",
       "      <td>15.6</td>\n",
       "      <td>0</td>\n",
       "      <td>6</td>\n",
       "    </tr>\n",
       "  </tbody>\n",
       "</table>\n",
       "</div>"
      ],
      "text/plain": [
       "   tpep_pickup_datetime  passenger_count  trip_distance  fare_amount hour  \\\n",
       "0   2023-01-01 00:32:10              1.0           0.97          9.3    0   \n",
       "1   2023-01-01 00:55:08              1.0           1.10          7.9    0   \n",
       "2   2023-01-01 00:25:04              1.0           2.51         14.9    0   \n",
       "3   2023-01-01 00:03:48              0.0           1.90         12.1    0   \n",
       "4   2023-01-01 00:10:29              1.0           1.43         11.4    0   \n",
       "5   2023-01-01 00:50:34              1.0           1.84         12.8    0   \n",
       "6   2023-01-01 00:09:22              1.0           1.66         12.1    0   \n",
       "7   2023-01-01 00:27:12              1.0          11.70         45.7    0   \n",
       "8   2023-01-01 00:21:44              1.0           2.95         17.7    0   \n",
       "9   2023-01-01 00:39:42              1.0           3.01         14.9    0   \n",
       "10  2023-01-01 00:53:01              1.0           1.80         11.4    0   \n",
       "11  2023-01-01 00:43:37              4.0           7.30         33.8    0   \n",
       "12  2023-01-01 00:34:44              1.0           3.23         26.1    0   \n",
       "13  2023-01-01 00:09:29              2.0          11.43         44.3    0   \n",
       "14  2023-01-01 00:33:53              1.0           2.95         17.7    0   \n",
       "15  2023-01-01 00:13:04              1.0           1.52         10.0    0   \n",
       "16  2023-01-01 00:45:11              1.0           2.23         19.8    0   \n",
       "17  2023-01-01 00:04:33              1.0           4.50         20.5    0   \n",
       "18  2023-01-01 00:03:36              3.0           1.20          8.6    0   \n",
       "19  2023-01-01 00:15:23              2.0           2.50         15.6    0   \n",
       "\n",
       "   day_of_week  \n",
       "0            6  \n",
       "1            6  \n",
       "2            6  \n",
       "3            6  \n",
       "4            6  \n",
       "5            6  \n",
       "6            6  \n",
       "7            6  \n",
       "8            6  \n",
       "9            6  \n",
       "10           6  \n",
       "11           6  \n",
       "12           6  \n",
       "13           6  \n",
       "14           6  \n",
       "15           6  \n",
       "16           6  \n",
       "17           6  \n",
       "18           6  \n",
       "19           6  "
      ]
     },
     "execution_count": 63,
     "metadata": {},
     "output_type": "execute_result"
    }
   ],
   "source": [
    "#Converting time of day and day of the week to categorical variables\n",
    "df_new['tpep_pickup_datetime'] = pd.to_datetime(df_new['tpep_pickup_datetime'])\n",
    "df_new['hour'] = df_new['tpep_pickup_datetime'].dt.hour\n",
    "df_new['day_of_week'] = df_new['tpep_pickup_datetime'].dt.dayofweek\n",
    "df_new['hour'] = df_new['hour'].astype('category')\n",
    "df_new['day_of_week'] = df_new['day_of_week'].astype('category')\n",
    "df_new.head(20)"
   ]
  },
  {
   "cell_type": "code",
   "execution_count": 64,
   "id": "5f5cff20",
   "metadata": {},
   "outputs": [
    {
     "data": {
      "text/html": [
       "<div>\n",
       "<style scoped>\n",
       "    .dataframe tbody tr th:only-of-type {\n",
       "        vertical-align: middle;\n",
       "    }\n",
       "\n",
       "    .dataframe tbody tr th {\n",
       "        vertical-align: top;\n",
       "    }\n",
       "\n",
       "    .dataframe thead th {\n",
       "        text-align: right;\n",
       "    }\n",
       "</style>\n",
       "<table border=\"1\" class=\"dataframe\">\n",
       "  <thead>\n",
       "    <tr style=\"text-align: right;\">\n",
       "      <th></th>\n",
       "      <th>tpep_pickup_datetime</th>\n",
       "      <th>passenger_count</th>\n",
       "      <th>trip_distance</th>\n",
       "      <th>fare_amount</th>\n",
       "      <th>hour_0</th>\n",
       "      <th>hour_1</th>\n",
       "      <th>hour_2</th>\n",
       "      <th>hour_3</th>\n",
       "      <th>hour_4</th>\n",
       "      <th>hour_5</th>\n",
       "      <th>...</th>\n",
       "      <th>hour_21</th>\n",
       "      <th>hour_22</th>\n",
       "      <th>hour_23</th>\n",
       "      <th>day_of_week_0</th>\n",
       "      <th>day_of_week_1</th>\n",
       "      <th>day_of_week_2</th>\n",
       "      <th>day_of_week_3</th>\n",
       "      <th>day_of_week_4</th>\n",
       "      <th>day_of_week_5</th>\n",
       "      <th>day_of_week_6</th>\n",
       "    </tr>\n",
       "  </thead>\n",
       "  <tbody>\n",
       "    <tr>\n",
       "      <th>0</th>\n",
       "      <td>2023-01-01 00:32:10</td>\n",
       "      <td>1.0</td>\n",
       "      <td>0.97</td>\n",
       "      <td>9.3</td>\n",
       "      <td>1</td>\n",
       "      <td>0</td>\n",
       "      <td>0</td>\n",
       "      <td>0</td>\n",
       "      <td>0</td>\n",
       "      <td>0</td>\n",
       "      <td>...</td>\n",
       "      <td>0</td>\n",
       "      <td>0</td>\n",
       "      <td>0</td>\n",
       "      <td>0</td>\n",
       "      <td>0</td>\n",
       "      <td>0</td>\n",
       "      <td>0</td>\n",
       "      <td>0</td>\n",
       "      <td>0</td>\n",
       "      <td>1</td>\n",
       "    </tr>\n",
       "    <tr>\n",
       "      <th>1</th>\n",
       "      <td>2023-01-01 00:55:08</td>\n",
       "      <td>1.0</td>\n",
       "      <td>1.10</td>\n",
       "      <td>7.9</td>\n",
       "      <td>1</td>\n",
       "      <td>0</td>\n",
       "      <td>0</td>\n",
       "      <td>0</td>\n",
       "      <td>0</td>\n",
       "      <td>0</td>\n",
       "      <td>...</td>\n",
       "      <td>0</td>\n",
       "      <td>0</td>\n",
       "      <td>0</td>\n",
       "      <td>0</td>\n",
       "      <td>0</td>\n",
       "      <td>0</td>\n",
       "      <td>0</td>\n",
       "      <td>0</td>\n",
       "      <td>0</td>\n",
       "      <td>1</td>\n",
       "    </tr>\n",
       "    <tr>\n",
       "      <th>2</th>\n",
       "      <td>2023-01-01 00:25:04</td>\n",
       "      <td>1.0</td>\n",
       "      <td>2.51</td>\n",
       "      <td>14.9</td>\n",
       "      <td>1</td>\n",
       "      <td>0</td>\n",
       "      <td>0</td>\n",
       "      <td>0</td>\n",
       "      <td>0</td>\n",
       "      <td>0</td>\n",
       "      <td>...</td>\n",
       "      <td>0</td>\n",
       "      <td>0</td>\n",
       "      <td>0</td>\n",
       "      <td>0</td>\n",
       "      <td>0</td>\n",
       "      <td>0</td>\n",
       "      <td>0</td>\n",
       "      <td>0</td>\n",
       "      <td>0</td>\n",
       "      <td>1</td>\n",
       "    </tr>\n",
       "    <tr>\n",
       "      <th>3</th>\n",
       "      <td>2023-01-01 00:03:48</td>\n",
       "      <td>0.0</td>\n",
       "      <td>1.90</td>\n",
       "      <td>12.1</td>\n",
       "      <td>1</td>\n",
       "      <td>0</td>\n",
       "      <td>0</td>\n",
       "      <td>0</td>\n",
       "      <td>0</td>\n",
       "      <td>0</td>\n",
       "      <td>...</td>\n",
       "      <td>0</td>\n",
       "      <td>0</td>\n",
       "      <td>0</td>\n",
       "      <td>0</td>\n",
       "      <td>0</td>\n",
       "      <td>0</td>\n",
       "      <td>0</td>\n",
       "      <td>0</td>\n",
       "      <td>0</td>\n",
       "      <td>1</td>\n",
       "    </tr>\n",
       "    <tr>\n",
       "      <th>4</th>\n",
       "      <td>2023-01-01 00:10:29</td>\n",
       "      <td>1.0</td>\n",
       "      <td>1.43</td>\n",
       "      <td>11.4</td>\n",
       "      <td>1</td>\n",
       "      <td>0</td>\n",
       "      <td>0</td>\n",
       "      <td>0</td>\n",
       "      <td>0</td>\n",
       "      <td>0</td>\n",
       "      <td>...</td>\n",
       "      <td>0</td>\n",
       "      <td>0</td>\n",
       "      <td>0</td>\n",
       "      <td>0</td>\n",
       "      <td>0</td>\n",
       "      <td>0</td>\n",
       "      <td>0</td>\n",
       "      <td>0</td>\n",
       "      <td>0</td>\n",
       "      <td>1</td>\n",
       "    </tr>\n",
       "  </tbody>\n",
       "</table>\n",
       "<p>5 rows × 35 columns</p>\n",
       "</div>"
      ],
      "text/plain": [
       "  tpep_pickup_datetime  passenger_count  trip_distance  fare_amount  hour_0  \\\n",
       "0  2023-01-01 00:32:10              1.0           0.97          9.3       1   \n",
       "1  2023-01-01 00:55:08              1.0           1.10          7.9       1   \n",
       "2  2023-01-01 00:25:04              1.0           2.51         14.9       1   \n",
       "3  2023-01-01 00:03:48              0.0           1.90         12.1       1   \n",
       "4  2023-01-01 00:10:29              1.0           1.43         11.4       1   \n",
       "\n",
       "   hour_1  hour_2  hour_3  hour_4  hour_5  ...  hour_21  hour_22  hour_23  \\\n",
       "0       0       0       0       0       0  ...        0        0        0   \n",
       "1       0       0       0       0       0  ...        0        0        0   \n",
       "2       0       0       0       0       0  ...        0        0        0   \n",
       "3       0       0       0       0       0  ...        0        0        0   \n",
       "4       0       0       0       0       0  ...        0        0        0   \n",
       "\n",
       "   day_of_week_0  day_of_week_1  day_of_week_2  day_of_week_3  day_of_week_4  \\\n",
       "0              0              0              0              0              0   \n",
       "1              0              0              0              0              0   \n",
       "2              0              0              0              0              0   \n",
       "3              0              0              0              0              0   \n",
       "4              0              0              0              0              0   \n",
       "\n",
       "   day_of_week_5  day_of_week_6  \n",
       "0              0              1  \n",
       "1              0              1  \n",
       "2              0              1  \n",
       "3              0              1  \n",
       "4              0              1  \n",
       "\n",
       "[5 rows x 35 columns]"
      ]
     },
     "execution_count": 64,
     "metadata": {},
     "output_type": "execute_result"
    }
   ],
   "source": [
    "#Creating dummy variables for the categorical variable\n",
    "df_new = pd.get_dummies(df_new, columns=['hour', 'day_of_week'])\n",
    "df_new.head()"
   ]
  },
  {
   "cell_type": "code",
   "execution_count": 65,
   "id": "63236422",
   "metadata": {},
   "outputs": [],
   "source": [
    "#Visualizing pairwise plot of independent and dependent variables\n",
    "\n",
    "# Select the columns we want to include in the pairwise plots\n",
    "#columns = ['fare_amount', 'trip_distance', 'passenger_count']\n",
    "\n",
    "# Create a pairplot\n",
    "#sns.pairplot(df_new[columns], diag_kind='hist', markers='+')\n"
   ]
  },
  {
   "cell_type": "code",
   "execution_count": 66,
   "id": "02a0286b",
   "metadata": {},
   "outputs": [
    {
     "data": {
      "text/plain": [
       "passenger_count    float64\n",
       "trip_distance      float64\n",
       "fare_amount        float64\n",
       "hour_0               uint8\n",
       "hour_1               uint8\n",
       "hour_2               uint8\n",
       "hour_3               uint8\n",
       "hour_4               uint8\n",
       "hour_5               uint8\n",
       "hour_6               uint8\n",
       "hour_7               uint8\n",
       "hour_8               uint8\n",
       "hour_9               uint8\n",
       "hour_10              uint8\n",
       "hour_11              uint8\n",
       "hour_12              uint8\n",
       "hour_13              uint8\n",
       "hour_14              uint8\n",
       "hour_15              uint8\n",
       "hour_16              uint8\n",
       "hour_17              uint8\n",
       "hour_18              uint8\n",
       "hour_19              uint8\n",
       "hour_20              uint8\n",
       "hour_21              uint8\n",
       "hour_22              uint8\n",
       "hour_23              uint8\n",
       "day_of_week_0        uint8\n",
       "day_of_week_1        uint8\n",
       "day_of_week_2        uint8\n",
       "day_of_week_3        uint8\n",
       "day_of_week_4        uint8\n",
       "day_of_week_5        uint8\n",
       "day_of_week_6        uint8\n",
       "dtype: object"
      ]
     },
     "execution_count": 66,
     "metadata": {},
     "output_type": "execute_result"
    }
   ],
   "source": [
    "df1 = df_new.drop(['tpep_pickup_datetime'],axis = 1)\n",
    "df1.dtypes"
   ]
  },
  {
   "cell_type": "code",
   "execution_count": 67,
   "id": "ec67d43d",
   "metadata": {},
   "outputs": [],
   "source": [
    "#Define dependent and independent variables\n",
    "\n",
    "X = df1.drop(['fare_amount'],axis = 1)\n",
    "Y = df1['fare_amount']"
   ]
  },
  {
   "cell_type": "code",
   "execution_count": 76,
   "id": "4b3978fe",
   "metadata": {},
   "outputs": [
    {
     "data": {
      "text/plain": [
       "const              float64\n",
       "passenger_count    float64\n",
       "trip_distance      float64\n",
       "hour_0               uint8\n",
       "hour_1               uint8\n",
       "hour_2               uint8\n",
       "hour_3               uint8\n",
       "hour_4               uint8\n",
       "hour_5               uint8\n",
       "hour_6               uint8\n",
       "hour_7               uint8\n",
       "hour_8               uint8\n",
       "hour_9               uint8\n",
       "hour_10              uint8\n",
       "hour_11              uint8\n",
       "hour_12              uint8\n",
       "hour_13              uint8\n",
       "hour_14              uint8\n",
       "hour_15              uint8\n",
       "hour_16              uint8\n",
       "hour_17              uint8\n",
       "hour_18              uint8\n",
       "hour_19              uint8\n",
       "hour_20              uint8\n",
       "hour_21              uint8\n",
       "hour_22              uint8\n",
       "hour_23              uint8\n",
       "day_of_week_0        uint8\n",
       "day_of_week_1        uint8\n",
       "day_of_week_2        uint8\n",
       "day_of_week_3        uint8\n",
       "day_of_week_4        uint8\n",
       "day_of_week_5        uint8\n",
       "day_of_week_6        uint8\n",
       "dtype: object"
      ]
     },
     "execution_count": 76,
     "metadata": {},
     "output_type": "execute_result"
    }
   ],
   "source": [
    "X.dtypes"
   ]
  },
  {
   "cell_type": "code",
   "execution_count": 69,
   "id": "b8bd4d47",
   "metadata": {},
   "outputs": [],
   "source": [
    "X_train, X_test, Y_train, Y_test = train_test_split(X, Y, test_size=0.3, random_state=0)"
   ]
  },
  {
   "cell_type": "code",
   "execution_count": 70,
   "id": "10b265db",
   "metadata": {},
   "outputs": [
    {
     "data": {
      "text/html": [
       "<style>#sk-container-id-4 {color: black;background-color: white;}#sk-container-id-4 pre{padding: 0;}#sk-container-id-4 div.sk-toggleable {background-color: white;}#sk-container-id-4 label.sk-toggleable__label {cursor: pointer;display: block;width: 100%;margin-bottom: 0;padding: 0.3em;box-sizing: border-box;text-align: center;}#sk-container-id-4 label.sk-toggleable__label-arrow:before {content: \"▸\";float: left;margin-right: 0.25em;color: #696969;}#sk-container-id-4 label.sk-toggleable__label-arrow:hover:before {color: black;}#sk-container-id-4 div.sk-estimator:hover label.sk-toggleable__label-arrow:before {color: black;}#sk-container-id-4 div.sk-toggleable__content {max-height: 0;max-width: 0;overflow: hidden;text-align: left;background-color: #f0f8ff;}#sk-container-id-4 div.sk-toggleable__content pre {margin: 0.2em;color: black;border-radius: 0.25em;background-color: #f0f8ff;}#sk-container-id-4 input.sk-toggleable__control:checked~div.sk-toggleable__content {max-height: 200px;max-width: 100%;overflow: auto;}#sk-container-id-4 input.sk-toggleable__control:checked~label.sk-toggleable__label-arrow:before {content: \"▾\";}#sk-container-id-4 div.sk-estimator input.sk-toggleable__control:checked~label.sk-toggleable__label {background-color: #d4ebff;}#sk-container-id-4 div.sk-label input.sk-toggleable__control:checked~label.sk-toggleable__label {background-color: #d4ebff;}#sk-container-id-4 input.sk-hidden--visually {border: 0;clip: rect(1px 1px 1px 1px);clip: rect(1px, 1px, 1px, 1px);height: 1px;margin: -1px;overflow: hidden;padding: 0;position: absolute;width: 1px;}#sk-container-id-4 div.sk-estimator {font-family: monospace;background-color: #f0f8ff;border: 1px dotted black;border-radius: 0.25em;box-sizing: border-box;margin-bottom: 0.5em;}#sk-container-id-4 div.sk-estimator:hover {background-color: #d4ebff;}#sk-container-id-4 div.sk-parallel-item::after {content: \"\";width: 100%;border-bottom: 1px solid gray;flex-grow: 1;}#sk-container-id-4 div.sk-label:hover label.sk-toggleable__label {background-color: #d4ebff;}#sk-container-id-4 div.sk-serial::before {content: \"\";position: absolute;border-left: 1px solid gray;box-sizing: border-box;top: 0;bottom: 0;left: 50%;z-index: 0;}#sk-container-id-4 div.sk-serial {display: flex;flex-direction: column;align-items: center;background-color: white;padding-right: 0.2em;padding-left: 0.2em;position: relative;}#sk-container-id-4 div.sk-item {position: relative;z-index: 1;}#sk-container-id-4 div.sk-parallel {display: flex;align-items: stretch;justify-content: center;background-color: white;position: relative;}#sk-container-id-4 div.sk-item::before, #sk-container-id-4 div.sk-parallel-item::before {content: \"\";position: absolute;border-left: 1px solid gray;box-sizing: border-box;top: 0;bottom: 0;left: 50%;z-index: -1;}#sk-container-id-4 div.sk-parallel-item {display: flex;flex-direction: column;z-index: 1;position: relative;background-color: white;}#sk-container-id-4 div.sk-parallel-item:first-child::after {align-self: flex-end;width: 50%;}#sk-container-id-4 div.sk-parallel-item:last-child::after {align-self: flex-start;width: 50%;}#sk-container-id-4 div.sk-parallel-item:only-child::after {width: 0;}#sk-container-id-4 div.sk-dashed-wrapped {border: 1px dashed gray;margin: 0 0.4em 0.5em 0.4em;box-sizing: border-box;padding-bottom: 0.4em;background-color: white;}#sk-container-id-4 div.sk-label label {font-family: monospace;font-weight: bold;display: inline-block;line-height: 1.2em;}#sk-container-id-4 div.sk-label-container {text-align: center;}#sk-container-id-4 div.sk-container {/* jupyter's `normalize.less` sets `[hidden] { display: none; }` but bootstrap.min.css set `[hidden] { display: none !important; }` so we also need the `!important` here to be able to override the default hidden behavior on the sphinx rendered scikit-learn.org. See: https://github.com/scikit-learn/scikit-learn/issues/21755 */display: inline-block !important;position: relative;}#sk-container-id-4 div.sk-text-repr-fallback {display: none;}</style><div id=\"sk-container-id-4\" class=\"sk-top-container\"><div class=\"sk-text-repr-fallback\"><pre>LinearRegression()</pre><b>In a Jupyter environment, please rerun this cell to show the HTML representation or trust the notebook. <br />On GitHub, the HTML representation is unable to render, please try loading this page with nbviewer.org.</b></div><div class=\"sk-container\" hidden><div class=\"sk-item\"><div class=\"sk-estimator sk-toggleable\"><input class=\"sk-toggleable__control sk-hidden--visually\" id=\"sk-estimator-id-4\" type=\"checkbox\" checked><label for=\"sk-estimator-id-4\" class=\"sk-toggleable__label sk-toggleable__label-arrow\">LinearRegression</label><div class=\"sk-toggleable__content\"><pre>LinearRegression()</pre></div></div></div></div></div>"
      ],
      "text/plain": [
       "LinearRegression()"
      ]
     },
     "execution_count": 70,
     "metadata": {},
     "output_type": "execute_result"
    }
   ],
   "source": [
    "model = LinearRegression()\n",
    "model.fit(X_train, Y_train)"
   ]
  },
  {
   "cell_type": "code",
   "execution_count": 71,
   "id": "659fbef9",
   "metadata": {},
   "outputs": [
    {
     "name": "stdout",
     "output_type": "stream",
     "text": [
      "Coefficients: [ 6.32981192e-01  1.08919593e-03 -4.74211033e+08 -4.74211035e+08\n",
      " -4.74211036e+08 -4.74211035e+08 -4.74211030e+08 -4.74211026e+08\n",
      " -4.74211031e+08 -4.74211034e+08 -4.74211035e+08 -4.74211035e+08\n",
      " -4.74211035e+08 -4.74211035e+08 -4.74211035e+08 -4.74211034e+08\n",
      " -4.74211033e+08 -4.74211033e+08 -4.74211033e+08 -4.74211034e+08\n",
      " -4.74211036e+08 -4.74211035e+08 -4.74211035e+08 -4.74211034e+08\n",
      " -4.74211033e+08 -4.74211032e+08  8.63796950e+07  8.63796939e+07\n",
      "  8.63796934e+07  8.63796937e+07  8.63796935e+07  8.63796927e+07\n",
      "  8.63796951e+07]\n",
      "Intercept: 387831358.02217823\n"
     ]
    }
   ],
   "source": [
    "print('Coefficients:', model.coef_)\n",
    "print('Intercept:', model.intercept_)"
   ]
  },
  {
   "cell_type": "code",
   "execution_count": 72,
   "id": "9f717122",
   "metadata": {
    "scrolled": true
   },
   "outputs": [
    {
     "data": {
      "text/plain": [
       "array([17.35394686, 20.09251022, 17.35280329, ..., 18.75065607,\n",
       "       19.56293184, 18.93995851])"
      ]
     },
     "execution_count": 72,
     "metadata": {},
     "output_type": "execute_result"
    }
   ],
   "source": [
    "Y_pred = model.predict(X_test)\n",
    "Y_pred"
   ]
  },
  {
   "cell_type": "markdown",
   "id": "ba77b585",
   "metadata": {},
   "source": [
    "### Evaluating the model performance"
   ]
  },
  {
   "cell_type": "code",
   "execution_count": 73,
   "id": "99a14568",
   "metadata": {},
   "outputs": [
    {
     "name": "stdout",
     "output_type": "stream",
     "text": [
      "R-squared: 0.008601770477703607\n"
     ]
    }
   ],
   "source": [
    "r2_score = r2_score(Y_test, Y_pred)\n",
    "print(\"R-squared:\", r2_score)"
   ]
  },
  {
   "cell_type": "markdown",
   "id": "3f838c2c",
   "metadata": {},
   "source": [
    "### Significance Testing"
   ]
  },
  {
   "cell_type": "code",
   "execution_count": 74,
   "id": "5bf91bf1",
   "metadata": {
    "scrolled": true
   },
   "outputs": [
    {
     "name": "stdout",
     "output_type": "stream",
     "text": [
      "                            OLS Regression Results                            \n",
      "==============================================================================\n",
      "Dep. Variable:                      y   R-squared:                       1.000\n",
      "Model:                            OLS   Adj. R-squared:                  1.000\n",
      "Method:                 Least Squares   F-statistic:                 1.117e+20\n",
      "Date:                Tue, 25 Apr 2023   Prob (F-statistic):               0.00\n",
      "Time:                        21:55:17   Log-Likelihood:             1.4641e+07\n",
      "No. Observations:              912516   AIC:                        -2.928e+07\n",
      "Df Residuals:                  912484   BIC:                        -2.928e+07\n",
      "Df Model:                          31                                         \n",
      "Covariance Type:            nonrobust                                         \n",
      "===================================================================================\n",
      "                      coef    std err          t      P>|t|      [0.025      0.975]\n",
      "-----------------------------------------------------------------------------------\n",
      "const              15.4718    4.7e-11   3.29e+11      0.000      15.472      15.472\n",
      "passenger_count     0.6330   3.09e-11   2.05e+10      0.000       0.633       0.633\n",
      "trip_distance       0.0011   1.17e-13   9.29e+09      0.000       0.001       0.001\n",
      "hour_0              1.3238   1.62e-10   8.19e+09      0.000       1.324       1.324\n",
      "hour_1             -0.6184   1.93e-10   -3.2e+09      0.000      -0.618      -0.618\n",
      "hour_2             -1.6316   2.29e-10  -7.12e+09      0.000      -1.632      -1.632\n",
      "hour_3             -0.6134   2.82e-10  -2.18e+09      0.000      -0.613      -0.613\n",
      "hour_4              4.1266   3.47e-10   1.19e+10      0.000       4.127       4.127\n",
      "hour_5              8.1937   3.43e-10   2.39e+10      0.000       8.194       8.194\n",
      "hour_6              3.7060   2.22e-10   1.67e+10      0.000       3.706       3.706\n",
      "hour_7              0.7157    1.6e-10   4.48e+09      0.000       0.716       0.716\n",
      "hour_8             -0.8872   1.39e-10   -6.4e+09      0.000      -0.887      -0.887\n",
      "hour_9             -0.7335   1.32e-10  -5.57e+09      0.000      -0.733      -0.733\n",
      "hour_10            -0.7486   1.26e-10  -5.96e+09      0.000      -0.749      -0.749\n",
      "hour_11            -1.0724   1.22e-10   -8.8e+09      0.000      -1.072      -1.072\n",
      "hour_12            -0.6709   1.16e-10  -5.77e+09      0.000      -0.671      -0.671\n",
      "hour_13             0.0033   1.14e-10   2.91e+07      0.000       0.003       0.003\n",
      "hour_14             1.2475    1.1e-10   1.13e+10      0.000       1.247       1.247\n",
      "hour_15             0.7940   1.09e-10   7.28e+09      0.000       0.794       0.794\n",
      "hour_16             1.0745   1.09e-10   9.83e+09      0.000       1.075       1.075\n",
      "hour_17             0.2127   1.06e-10      2e+09      0.000       0.213       0.213\n",
      "hour_18            -1.3748   1.04e-10  -1.32e+10      0.000      -1.375      -1.375\n",
      "hour_19            -0.7415    1.1e-10  -6.74e+09      0.000      -0.742      -0.742\n",
      "hour_20            -0.3997   1.18e-10  -3.39e+09      0.000      -0.400      -0.400\n",
      "hour_21             0.0998    1.2e-10   8.35e+08      0.000       0.100       0.100\n",
      "hour_22             1.0780   1.25e-10   8.63e+09      0.000       1.078       1.078\n",
      "hour_23             2.3880   1.41e-10    1.7e+10      0.000       2.388       2.388\n",
      "day_of_week_0       3.2528   6.97e-11   4.66e+10      0.000       3.253       3.253\n",
      "day_of_week_1       2.1916   6.42e-11   3.42e+10      0.000       2.192       2.192\n",
      "day_of_week_2       1.7438   6.89e-11   2.53e+10      0.000       1.744       1.744\n",
      "day_of_week_3       2.0398   6.72e-11   3.03e+10      0.000       2.040       2.040\n",
      "day_of_week_4       1.8192   6.76e-11   2.69e+10      0.000       1.819       1.819\n",
      "day_of_week_5       1.0331   6.75e-11   1.53e+10      0.000       1.033       1.033\n",
      "day_of_week_6       3.3915   6.87e-11   4.94e+10      0.000       3.391       3.391\n",
      "==============================================================================\n",
      "Omnibus:                    12651.216   Durbin-Watson:                   2.003\n",
      "Prob(Omnibus):                  0.000   Jarque-Bera (JB):             7471.441\n",
      "Skew:                           0.002   Prob(JB):                         0.00\n",
      "Kurtosis:                       2.557   Cond. No.                     4.92e+16\n",
      "==============================================================================\n",
      "\n",
      "Notes:\n",
      "[1] Standard Errors assume that the covariance matrix of the errors is correctly specified.\n",
      "[2] The smallest eigenvalue is 2.04e-23. This might indicate that there are\n",
      "strong multicollinearity problems or that the design matrix is singular.\n"
     ]
    }
   ],
   "source": [
    "import statsmodels.api as sm\n",
    "\n",
    "X = sm.add_constant(X_test) # add a constant term to the feature matrix\n",
    "model = sm.OLS(Y_pred, X).fit()\n",
    "print(model.summary())\n"
   ]
  },
  {
   "cell_type": "markdown",
   "id": "51e8b864",
   "metadata": {},
   "source": [
    "R-squared value = 1.000 [Model explains all of the variance in the dependent variable]\n",
    "Adjusted R-squared value = 1.000[None of the independent variables added to the model were insignificant]\n",
    "F-statistic = 1.117e+20 and probability value = 0.00 [Model as a whole is statistically significant]\n",
    "Log-Likelihood = 1.4641e+07[Logarithm of the likelihood function for the model]\n",
    "\n",
    "The coefficients for the independent variables show the direction and strength of the relationship between the independent variables and the dependent variable. The P>|t| values for each independent variable are all zero, indicating that all of the coefficients are statistically significant. The model seems to have been fitted to a large dataset with over 900,000 observations."
   ]
  },
  {
   "cell_type": "markdown",
   "id": "d8f928ed",
   "metadata": {},
   "source": [
    "## 2. Do you think this analysis can inform policymaking? If so, in which way?"
   ]
  },
  {
   "cell_type": "markdown",
   "id": "d8bcfbbe",
   "metadata": {},
   "source": [
    "Yes, I believe this analysis definitely inform policy making by identifying factors that contribute to higher taxi fares, which could help policy makers design policies to regulate fares and improve affordability. In this analysis it's clear that the time of the day has a significant impact on fares, policymakers could consider implementing surge pricing during peak hours to reduce congestion and encourage workers to work during off-peak hours. "
   ]
  },
  {
   "cell_type": "markdown",
   "id": "cb6ecfee",
   "metadata": {},
   "source": [
    "### Simulating Policy Scenarios"
   ]
  },
  {
   "cell_type": "markdown",
   "id": "719a235f",
   "metadata": {},
   "source": [
    "I want to check the fare amount during peak hours, so that policy can increase the supply of taxis during peak hours. This will help the policy makers to design policies that are likely to improve affordability without significantly impacting the revenue of taxi operators in NYC."
   ]
  },
  {
   "cell_type": "code",
   "execution_count": 78,
   "id": "4986f534",
   "metadata": {},
   "outputs": [],
   "source": [
    "# Save Model To a File Using Python Pickle\n",
    "import pickle\n",
    "with open('model_pickle','wb') as file:\n",
    "    pickle.dump(model,file)"
   ]
  },
  {
   "cell_type": "code",
   "execution_count": 79,
   "id": "c5a97721",
   "metadata": {},
   "outputs": [],
   "source": [
    "#Load saved model\n",
    "with open('model_pickle','rb') as file:\n",
    "    mp = pickle.load(file)"
   ]
  },
  {
   "cell_type": "markdown",
   "id": "377f5201",
   "metadata": {},
   "source": [
    "#### Peak hour fair?"
   ]
  },
  {
   "cell_type": "markdown",
   "id": "7bc97b23",
   "metadata": {},
   "source": [
    "###### Find fare amount on Monday at 8:00am at NYC?"
   ]
  },
  {
   "cell_type": "code",
   "execution_count": 182,
   "id": "c9a496a8",
   "metadata": {},
   "outputs": [],
   "source": [
    "new_data = pd.DataFrame({\n",
    "    'const':[1],\n",
    "    'passenger_count': [1], \n",
    "    'trip_distance': [2.5], \n",
    "    'hour_0':[0],\n",
    "    'hour_1':[0],\n",
    "    'hour_2':[0],\n",
    "    'hour_3':[0],\n",
    "    'hour_4':[0],\n",
    "    'hour_5':[0],\n",
    "    'hour_6':[0],\n",
    "    'hour_7':[0],\n",
    "    'hour_8':[1],\n",
    "    'hour_9':[0],\n",
    "    'hour_10':[0],\n",
    "    'hour_11':[0],\n",
    "    'hour_12':[0],\n",
    "    'hour_13':[0],\n",
    "    'hour_14':[0],\n",
    "    'hour_15':[0],\n",
    "    'hour_16':[0],\n",
    "    'hour_17':[0],\n",
    "    'hour_18':[0],\n",
    "    'hour_19':[0],\n",
    "    'hour_20':[0],\n",
    "    'hour_21':[0],\n",
    "    'hour_22':[0], \n",
    "    'hour_23':[0],\n",
    "    'day_of_week_0': [1],\n",
    "    'day_of_week_1':[0],\n",
    "    'day_of_week_2':[0],\n",
    "    'day_of_week_3':[0],\n",
    "    'day_of_week_4':[0],\n",
    "    'day_of_week_5':[0],\n",
    "    'day_of_week_6':[0] \n",
    "})"
   ]
  },
  {
   "cell_type": "code",
   "execution_count": 184,
   "id": "255b0441",
   "metadata": {
    "scrolled": true
   },
   "outputs": [
    {
     "name": "stdout",
     "output_type": "stream",
     "text": [
      "The predicted fare amount for Monday at 8:00 am is $18.47\n"
     ]
    }
   ],
   "source": [
    "# make the prediction\n",
    "fare_prediction = mp.predict(new_data)\n",
    "print(f\"The predicted fare amount for Monday at 8:00 am is ${fare_prediction[0]:.2f}\")"
   ]
  },
  {
   "cell_type": "markdown",
   "id": "6990ddcc",
   "metadata": {},
   "source": [
    "#### Off-peak hour fair?"
   ]
  },
  {
   "cell_type": "markdown",
   "id": "ec5c4b75",
   "metadata": {},
   "source": [
    "##### Find fare amount on Saturday at 5:00am at NYC?"
   ]
  },
  {
   "cell_type": "code",
   "execution_count": 189,
   "id": "b5dc8e25",
   "metadata": {},
   "outputs": [],
   "source": [
    "new_data = pd.DataFrame({\n",
    "    'const':[1],\n",
    "    'passenger_count': [1], \n",
    "    'trip_distance': [2.5], \n",
    "    'hour_0':[0],\n",
    "    'hour_1':[0],\n",
    "    'hour_2':[0],\n",
    "    'hour_3':[0],\n",
    "    'hour_4':[0],\n",
    "    'hour_5':[1],\n",
    "    'hour_6':[0],\n",
    "    'hour_7':[0],\n",
    "    'hour_8':[0],\n",
    "    'hour_9':[0],\n",
    "    'hour_10':[0],\n",
    "    'hour_11':[0],\n",
    "    'hour_12':[0],\n",
    "    'hour_13':[0],\n",
    "    'hour_14':[0],\n",
    "    'hour_15':[0],\n",
    "    'hour_16':[0],\n",
    "    'hour_17':[0],\n",
    "    'hour_18':[0],\n",
    "    'hour_19':[0],\n",
    "    'hour_20':[0],\n",
    "    'hour_21':[0],\n",
    "    'hour_22':[0], \n",
    "    'hour_23':[0],\n",
    "    'day_of_week_0': [0],\n",
    "    'day_of_week_1':[0],\n",
    "    'day_of_week_2':[0],\n",
    "    'day_of_week_3':[0],\n",
    "    'day_of_week_4':[0],\n",
    "    'day_of_week_5':[1],\n",
    "    'day_of_week_6':[0] \n",
    "})"
   ]
  },
  {
   "cell_type": "code",
   "execution_count": 190,
   "id": "2553988c",
   "metadata": {},
   "outputs": [
    {
     "name": "stdout",
     "output_type": "stream",
     "text": [
      "The predicted fare amount for Saturday at 5:00 am is $25.33\n"
     ]
    }
   ],
   "source": [
    "# make the prediction\n",
    "fare_prediction = mp.predict(new_data)\n",
    "print(f\"The predicted fare amount for Saturday at 5:00 am is ${fare_prediction[0]:.2f}\")"
   ]
  },
  {
   "cell_type": "markdown",
   "id": "7aeb6162",
   "metadata": {},
   "source": [
    "## 3. What, if any, are your concerns with the data in hand? What other data could be useful for your analysis?"
   ]
  },
  {
   "cell_type": "markdown",
   "id": "8cded786",
   "metadata": {},
   "source": [
    "One concern with the data is that this is a representation of taxi trips that are paid electronically, which may not be the representative of all taxi trips in NYC. Also the data may be subjected to reporting errors or biases, such as drivers not reporting all of their trips or over reporting the fare amount. To address these concerns surveys or ride-hailing data could be used to validate the findings."
   ]
  },
  {
   "cell_type": "markdown",
   "id": "72deab20",
   "metadata": {},
   "source": [
    "## 4. If you had more time, what would you have added to your analysis?"
   ]
  },
  {
   "cell_type": "markdown",
   "id": "6cb41bcd",
   "metadata": {},
   "source": [
    "If I had more time, I would perform a cluster analysis to identify diffrent types of taxi trips based on their characteristics, such as distance, time of day and passenger count. This could provide insights into different market segments and help inform policy making for targeted interventions. Additionally, I would analyze external factors like weather and events on taxi fares. I also want to investigate the relationship between taxi fares and other modes of transportation like Uber/Lyft(ride-hailing) or public transit."
   ]
  },
  {
   "cell_type": "code",
   "execution_count": null,
   "id": "037b5489",
   "metadata": {},
   "outputs": [],
   "source": []
  }
 ],
 "metadata": {
  "kernelspec": {
   "display_name": "Python 3 (ipykernel)",
   "language": "python",
   "name": "python3"
  },
  "language_info": {
   "codemirror_mode": {
    "name": "ipython",
    "version": 3
   },
   "file_extension": ".py",
   "mimetype": "text/x-python",
   "name": "python",
   "nbconvert_exporter": "python",
   "pygments_lexer": "ipython3",
   "version": "3.10.9"
  }
 },
 "nbformat": 4,
 "nbformat_minor": 5
}
